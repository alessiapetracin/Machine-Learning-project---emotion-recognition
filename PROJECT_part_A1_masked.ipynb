{
  "cells": [
    {
      "cell_type": "markdown",
      "metadata": {
        "id": "view-in-github",
        "colab_type": "text"
      },
      "source": [
        "<a href=\"https://colab.research.google.com/github/alessiapetracin/Machine-Learning-project---emotion-recognition/blob/main/PROJECT_part_A1_masked.ipynb\" target=\"_parent\"><img src=\"https://colab.research.google.com/assets/colab-badge.svg\" alt=\"Open In Colab\"/></a>"
      ]
    },
    {
      "cell_type": "markdown",
      "metadata": {
        "id": "T_ov95Zmreon"
      },
      "source": [
        "**PART 1 A**"
      ]
    },
    {
      "cell_type": "code",
      "source": [
        "from google.colab import drive\n",
        "drive.mount('/content/drive')"
      ],
      "metadata": {
        "colab": {
          "base_uri": "https://localhost:8080/"
        },
        "id": "J8JaMCyVgf2i",
        "outputId": "7a1030a8-e52a-46ce-87f0-2cbede9234f8"
      },
      "execution_count": 3,
      "outputs": [
        {
          "output_type": "stream",
          "name": "stdout",
          "text": [
            "Drive already mounted at /content/drive; to attempt to forcibly remount, call drive.mount(\"/content/drive\", force_remount=True).\n"
          ]
        }
      ]
    },
    {
      "cell_type": "code",
      "execution_count": 2,
      "metadata": {
        "id": "7-6cjtKE32Ge"
      },
      "outputs": [],
      "source": [
        "# IMPORT DATASETS AND CREATE NEW FOLDERS\n",
        "\n",
        "input_data_folder = '/content/drive/MyDrive/RealLifeMask/Face-Mask'\n",
        "output_train_folder = '/content/drive/MyDrive/RealLifeMask/output_train'\n",
        "output_validation_folder = '/content/drive/MyDrive/RealLifeMask/output_val'"
      ]
    },
    {
      "cell_type": "code",
      "execution_count": 3,
      "metadata": {
        "id": "Ex1T3N_r4xlp"
      },
      "outputs": [],
      "source": [
        "# CREATE TRAIN AND VALIDATION SPLITS\n",
        "\n",
        "import os\n",
        "import shutil\n",
        "from sklearn.model_selection import train_test_split\n",
        "\n",
        "# Create train and validation folders\n",
        "os.makedirs(os.path.join(output_train_folder, '0'), exist_ok=True)\n",
        "os.makedirs(os.path.join(output_train_folder, '1'), exist_ok=True)\n",
        "os.makedirs(os.path.join(output_validation_folder, '0'), exist_ok=True)\n",
        "os.makedirs(os.path.join(output_validation_folder, '1'), exist_ok=True)\n",
        "\n",
        "# Organize data into 0 (unmasked) and 1 (masked) folders\n",
        "unmasked_folder = os.path.join(input_data_folder, '0')\n",
        "masked_folder = os.path.join(input_data_folder, '1')\n",
        "\n",
        "# Get the list of image filenames for both classes\n",
        "unmasked_images = os.listdir(unmasked_folder)\n",
        "masked_images = os.listdir(masked_folder)\n",
        "\n",
        "# Split data for both classes\n",
        "unmasked_train, unmasked_val = train_test_split(unmasked_images, test_size=0.3, random_state=42)\n",
        "masked_train, masked_val = train_test_split(masked_images, test_size=0.3, random_state=42)\n",
        "\n",
        "# Move images to train and validation folders\n",
        "for image in unmasked_train:\n",
        "    src = os.path.join(unmasked_folder, image)\n",
        "    dest = os.path.join(output_train_folder, '0', image)\n",
        "    shutil.copy(src, dest)\n",
        "\n",
        "for image in unmasked_val:\n",
        "    src = os.path.join(unmasked_folder, image)\n",
        "    dest = os.path.join(output_validation_folder, '0', image)\n",
        "    shutil.copy(src, dest)\n",
        "\n",
        "for image in masked_train:\n",
        "    src = os.path.join(masked_folder, image)\n",
        "    dest = os.path.join(output_train_folder, '1', image)\n",
        "    shutil.copy(src, dest)\n",
        "\n",
        "for image in masked_val:\n",
        "    src = os.path.join(masked_folder, image)\n",
        "    dest = os.path.join(output_validation_folder, '1', image)\n",
        "    shutil.copy(src, dest)\n"
      ]
    },
    {
      "cell_type": "code",
      "execution_count": 12,
      "metadata": {
        "colab": {
          "base_uri": "https://localhost:8080/"
        },
        "id": "mngyt_x0F5ha",
        "outputId": "9414551c-8a7f-4d63-bc51-a585be9fdc13"
      },
      "outputs": [
        {
          "output_type": "stream",
          "name": "stdout",
          "text": [
            "Found 2763 images belonging to 2 classes.\n",
            "Found 1186 images belonging to 2 classes.\n"
          ]
        }
      ],
      "source": [
        "# DATA PREPROCESSING\n",
        "\n",
        "from tensorflow.keras.preprocessing.image import ImageDataGenerator\n",
        "\n",
        "# Define paths\n",
        "train_data_folder = '/content/drive/MyDrive/RealLifeMask/output_train'\n",
        "validation_data_folder = '/content/drive/MyDrive/RealLifeMask/output_val'\n",
        "\n",
        "# Define image size and batch size\n",
        "image_size = (128, 128)\n",
        "batch_size = 32\n",
        "\n",
        "# Create data generators for train and validation sets\n",
        "train_datagen = ImageDataGenerator(\n",
        "    rescale=1.0/255.0,          # Normalize pixel values to [0, 1]\n",
        "    rotation_range=20,          # Randomly rotate images\n",
        "    width_shift_range=0.2,      # Randomly shift images horizontally\n",
        "    height_shift_range=0.2,     # Randomly shift images vertically\n",
        "    horizontal_flip=True,       # Randomly flip images horizontally\n",
        "    vertical_flip=False         # No vertical flip for face images\n",
        ")\n",
        "\n",
        "validation_datagen = ImageDataGenerator(rescale=1.0/255.0)  # Only rescale for validation\n",
        "\n",
        "# Generate batches of augmented image data\n",
        "train_generator = train_datagen.flow_from_directory(\n",
        "    train_data_folder,\n",
        "    target_size=image_size,\n",
        "    batch_size=batch_size,\n",
        "    class_mode='binary'  # Since it's a binary classification task\n",
        ")\n",
        "\n",
        "validation_generator = validation_datagen.flow_from_directory(\n",
        "    validation_data_folder,\n",
        "    target_size=image_size,\n",
        "    batch_size=batch_size,\n",
        "    class_mode='binary'\n",
        ")\n"
      ]
    },
    {
      "cell_type": "code",
      "execution_count": 5,
      "metadata": {
        "id": "LLup_QbS3ckP"
      },
      "outputs": [],
      "source": [
        "# DEFINE MODEL 1\n",
        "\n",
        "import tensorflow as tf\n",
        "from tensorflow.keras.models import Sequential\n",
        "from tensorflow.keras.layers import Conv2D, MaxPooling2D, Flatten, Dense, Dropout\n",
        "\n",
        "# Define the CNN model\n",
        "model = Sequential([\n",
        "    Conv2D(32, (3, 3), activation='relu', input_shape=(128, 128, 3)),\n",
        "    MaxPooling2D(2, 2),\n",
        "    Conv2D(64, (3, 3), activation='relu'),\n",
        "    MaxPooling2D(2, 2),\n",
        "    Conv2D(128, (3, 3), activation='relu'),\n",
        "    MaxPooling2D(2, 2),\n",
        "    Flatten(),\n",
        "    Dense(512, activation='relu'),\n",
        "    Dropout(0.5),\n",
        "    Dense(1, activation='sigmoid')\n",
        "])\n",
        "\n",
        "# Compile the model\n",
        "model.compile(optimizer='adam', loss='binary_crossentropy', metrics=['accuracy'])\n"
      ]
    },
    {
      "cell_type": "code",
      "execution_count": 7,
      "metadata": {
        "colab": {
          "base_uri": "https://localhost:8080/"
        },
        "id": "bV3a-YAj3v3E",
        "outputId": "e0940608-1fc5-4d2b-d0e4-8f97298468d3"
      },
      "outputs": [
        {
          "output_type": "stream",
          "name": "stdout",
          "text": [
            "Epoch 1/10\n",
            "87/87 [==============================] - 32s 237ms/step - loss: 0.2854 - accuracy: 0.8925 - val_loss: 0.1424 - val_accuracy: 0.9604\n",
            "Epoch 2/10\n",
            "87/87 [==============================] - 22s 252ms/step - loss: 0.1571 - accuracy: 0.9432 - val_loss: 0.1388 - val_accuracy: 0.9410\n",
            "Epoch 3/10\n",
            "87/87 [==============================] - 21s 247ms/step - loss: 0.1499 - accuracy: 0.9410 - val_loss: 0.1196 - val_accuracy: 0.9595\n",
            "Epoch 4/10\n",
            "87/87 [==============================] - 23s 266ms/step - loss: 0.1401 - accuracy: 0.9457 - val_loss: 0.1123 - val_accuracy: 0.9646\n",
            "Epoch 5/10\n",
            "87/87 [==============================] - 20s 230ms/step - loss: 0.1373 - accuracy: 0.9533 - val_loss: 0.1171 - val_accuracy: 0.9637\n",
            "Epoch 6/10\n",
            "87/87 [==============================] - 21s 247ms/step - loss: 0.1339 - accuracy: 0.9533 - val_loss: 0.1007 - val_accuracy: 0.9629\n",
            "Epoch 7/10\n",
            "87/87 [==============================] - 20s 230ms/step - loss: 0.1252 - accuracy: 0.9522 - val_loss: 0.1073 - val_accuracy: 0.9629\n",
            "Epoch 8/10\n",
            "87/87 [==============================] - 21s 243ms/step - loss: 0.1231 - accuracy: 0.9526 - val_loss: 0.1344 - val_accuracy: 0.9469\n",
            "Epoch 9/10\n",
            "87/87 [==============================] - 20s 232ms/step - loss: 0.1279 - accuracy: 0.9519 - val_loss: 0.0988 - val_accuracy: 0.9663\n",
            "Epoch 10/10\n",
            "87/87 [==============================] - 20s 235ms/step - loss: 0.1238 - accuracy: 0.9544 - val_loss: 0.1131 - val_accuracy: 0.9587\n"
          ]
        }
      ],
      "source": [
        "# TRAIN MODEL 1\n",
        "\n",
        "from tensorflow.keras.callbacks import EarlyStopping\n",
        "\n",
        "# Define early stopping callback\n",
        "early_stopping = EarlyStopping(monitor='val_loss', patience=3, restore_best_weights=True)\n",
        "\n",
        "history = model.fit(\n",
        "    train_generator,\n",
        "    steps_per_epoch=len(train_generator),\n",
        "    epochs=10,  # Adjust as needed\n",
        "    validation_data=validation_generator,\n",
        "    validation_steps=len(validation_generator),\n",
        "    callbacks=[early_stopping]\n",
        ")\n"
      ]
    },
    {
      "cell_type": "code",
      "execution_count": 8,
      "metadata": {
        "colab": {
          "base_uri": "https://localhost:8080/"
        },
        "id": "HFZaDLJ03zby",
        "outputId": "7e7c28d3-e236-4743-b0f6-8e2e4a0e723c"
      },
      "outputs": [
        {
          "output_type": "stream",
          "name": "stdout",
          "text": [
            "38/38 [==============================] - 3s 66ms/step - loss: 0.1131 - accuracy: 0.9587\n",
            "Validation Loss: 0.11313678324222565\n",
            "Validation Accuracy: 0.9586846828460693\n"
          ]
        }
      ],
      "source": [
        "# EVALUATE MODEL 1\n",
        "evaluation = model.evaluate(validation_generator)\n",
        "\n",
        "# Print results\n",
        "print(\"Validation Loss:\", evaluation[0])\n",
        "print(\"Validation Accuracy:\", evaluation[1])\n"
      ]
    },
    {
      "cell_type": "code",
      "execution_count": 3,
      "metadata": {
        "id": "33hqQm3SayxI"
      },
      "outputs": [],
      "source": [
        "# DEFINE MODEL 2\n",
        "\n",
        "from tensorflow.keras.models import Sequential\n",
        "from tensorflow.keras.layers import Conv2D, MaxPooling2D, Flatten, Dense, Dropout, BatchNormalization\n",
        "\n",
        "# Define the CNN model\n",
        "model2 = Sequential([\n",
        "    Conv2D(32, (3, 3), activation='relu', input_shape=(128, 128, 3)),\n",
        "    BatchNormalization(),\n",
        "    MaxPooling2D(2, 2),\n",
        "    Conv2D(64, (3, 3), activation='relu'),\n",
        "    BatchNormalization(),\n",
        "    MaxPooling2D(2, 2),\n",
        "    Conv2D(128, (3, 3), activation='relu'),\n",
        "    BatchNormalization(),\n",
        "    MaxPooling2D(2, 2),\n",
        "    Conv2D(256, (3, 3), activation='relu'),\n",
        "    BatchNormalization(),\n",
        "    MaxPooling2D(2, 2),\n",
        "    Conv2D(512, (3, 3), activation='relu'),\n",
        "    BatchNormalization(),\n",
        "    MaxPooling2D(2, 2),\n",
        "    Flatten(),\n",
        "    Dense(1024, activation='relu'),\n",
        "    Dropout(0.5),\n",
        "    Dense(512, activation='relu'),\n",
        "    Dropout(0.5),\n",
        "    Dense(1, activation='sigmoid')\n",
        "])\n",
        "\n",
        "# Compile the model\n",
        "model2.compile(optimizer='adam', loss='binary_crossentropy', metrics=['accuracy'])\n"
      ]
    },
    {
      "cell_type": "code",
      "execution_count": 6,
      "metadata": {
        "colab": {
          "base_uri": "https://localhost:8080/"
        },
        "id": "cZgHDGYGa4Gh",
        "outputId": "3fb5e6f6-42ae-4d1b-8715-0cc78071642e"
      },
      "outputs": [
        {
          "output_type": "stream",
          "name": "stdout",
          "text": [
            "Epoch 1/10\n",
            "87/87 [==============================] - 439s 5s/step - loss: 0.5330 - accuracy: 0.8874 - val_loss: 0.4846 - val_accuracy: 0.8153\n",
            "Epoch 2/10\n",
            "87/87 [==============================] - 145s 2s/step - loss: 0.2117 - accuracy: 0.9341 - val_loss: 0.3024 - val_accuracy: 0.8406\n",
            "Epoch 3/10\n",
            "87/87 [==============================] - 113s 1s/step - loss: 0.1775 - accuracy: 0.9403 - val_loss: 0.2950 - val_accuracy: 0.8533\n",
            "Epoch 4/10\n",
            "87/87 [==============================] - 116s 1s/step - loss: 0.1445 - accuracy: 0.9446 - val_loss: 0.3007 - val_accuracy: 0.8465\n",
            "Epoch 5/10\n",
            "87/87 [==============================] - 117s 1s/step - loss: 0.1311 - accuracy: 0.9522 - val_loss: 0.1906 - val_accuracy: 0.9005\n",
            "Epoch 6/10\n",
            "87/87 [==============================] - 114s 1s/step - loss: 0.1500 - accuracy: 0.9399 - val_loss: 0.1881 - val_accuracy: 0.9393\n",
            "Epoch 7/10\n",
            "87/87 [==============================] - 124s 1s/step - loss: 0.1566 - accuracy: 0.9577 - val_loss: 0.6419 - val_accuracy: 0.9309\n",
            "Epoch 8/10\n",
            "87/87 [==============================] - 128s 1s/step - loss: 0.1453 - accuracy: 0.9435 - val_loss: 0.2045 - val_accuracy: 0.8946\n",
            "Epoch 9/10\n",
            "87/87 [==============================] - 113s 1s/step - loss: 0.1544 - accuracy: 0.9493 - val_loss: 0.4389 - val_accuracy: 0.9199\n"
          ]
        }
      ],
      "source": [
        "# TRAIN MODEL 2\n",
        "from tensorflow.keras.callbacks import EarlyStopping\n",
        "\n",
        "# Define early stopping callback\n",
        "early_stopping = EarlyStopping(monitor='val_loss', patience=3, restore_best_weights=True)\n",
        "\n",
        "history = model2.fit(\n",
        "    train_generator,\n",
        "    steps_per_epoch=len(train_generator),\n",
        "    epochs=10,  # Adjust as needed\n",
        "    validation_data=validation_generator,\n",
        "    validation_steps=len(validation_generator),\n",
        "    callbacks=[early_stopping]\n",
        ")"
      ]
    },
    {
      "cell_type": "code",
      "execution_count": 7,
      "metadata": {
        "colab": {
          "base_uri": "https://localhost:8080/"
        },
        "id": "fgmMqGGXbFAY",
        "outputId": "c84cd66d-22ce-4295-dd37-76c281a5dbf7"
      },
      "outputs": [
        {
          "output_type": "stream",
          "name": "stdout",
          "text": [
            "38/38 [==============================] - 12s 300ms/step - loss: 0.1881 - accuracy: 0.9393\n",
            "87/87 [==============================] - 35s 404ms/step - loss: 0.1949 - accuracy: 0.9359\n",
            "Validation Loss: 0.188068687915802\n",
            "Validation Accuracy: 0.9392917156219482\n",
            "Tranining Loss: 0.194924995303154\n",
            "Training Accuracy: 0.9359391927719116\n"
          ]
        }
      ],
      "source": [
        "# EVALUATE MODEL 2\n",
        "\n",
        "evaluation = model2.evaluate(validation_generator)\n",
        "evaluation_train = model2.evaluate(train_generator)\n",
        "\n",
        "# Print results\n",
        "print(\"Validation Loss:\", evaluation[0])\n",
        "print(\"Validation Accuracy:\", evaluation[1])\n",
        "\n",
        "print('Tranining Loss:', evaluation_train[0])\n",
        "print('Training Accuracy:', evaluation_train[1])"
      ]
    },
    {
      "cell_type": "code",
      "execution_count": 8,
      "metadata": {
        "id": "WDhpFdylb1pr"
      },
      "outputs": [],
      "source": [
        "# SAVE MODEL 2\n",
        "\n",
        "model2.save('training/model2.h5')"
      ]
    },
    {
      "cell_type": "markdown",
      "metadata": {
        "id": "8sHxuM5nrL1p"
      },
      "source": [
        "Model 2 had worse results because it was overfitting the training set, therefore early stopping was inserted, with patience = 3."
      ]
    },
    {
      "cell_type": "markdown",
      "metadata": {
        "id": "Kw2lkMk6rdhE"
      },
      "source": [
        "**PART 1 B**"
      ]
    },
    {
      "cell_type": "code",
      "execution_count": 18,
      "metadata": {
        "colab": {
          "base_uri": "https://localhost:8080/"
        },
        "id": "PTh7m1Tyrcw5",
        "outputId": "6d4bd1d5-424a-4310-9287-c618d8eadeab"
      },
      "outputs": [
        {
          "output_type": "stream",
          "name": "stdout",
          "text": [
            "Downloading data from https://storage.googleapis.com/tensorflow/keras-applications/vgg16/vgg16_weights_tf_dim_ordering_tf_kernels_notop.h5\n",
            "58889256/58889256 [==============================] - 3s 0us/step\n",
            "Epoch 1/10\n",
            "87/87 [==============================] - 42s 350ms/step - loss: 0.2826 - accuracy: 0.8664 - val_loss: 0.1808 - val_accuracy: 0.9174\n",
            "Epoch 2/10\n",
            "87/87 [==============================] - 25s 283ms/step - loss: 0.1507 - accuracy: 0.9425 - val_loss: 0.0992 - val_accuracy: 0.9629\n",
            "Epoch 3/10\n",
            "87/87 [==============================] - 24s 279ms/step - loss: 0.1105 - accuracy: 0.9591 - val_loss: 0.0911 - val_accuracy: 0.9671\n",
            "Epoch 4/10\n",
            "87/87 [==============================] - 24s 280ms/step - loss: 0.0891 - accuracy: 0.9653 - val_loss: 0.0906 - val_accuracy: 0.9654\n",
            "Epoch 5/10\n",
            "87/87 [==============================] - 23s 265ms/step - loss: 0.0772 - accuracy: 0.9729 - val_loss: 0.0683 - val_accuracy: 0.9789\n",
            "Epoch 6/10\n",
            "87/87 [==============================] - 23s 263ms/step - loss: 0.0744 - accuracy: 0.9743 - val_loss: 0.0870 - val_accuracy: 0.9654\n",
            "Epoch 7/10\n",
            "87/87 [==============================] - 24s 275ms/step - loss: 0.0631 - accuracy: 0.9765 - val_loss: 0.1151 - val_accuracy: 0.9536\n",
            "Epoch 8/10\n",
            "87/87 [==============================] - 25s 289ms/step - loss: 0.0630 - accuracy: 0.9779 - val_loss: 0.1193 - val_accuracy: 0.9629\n"
          ]
        }
      ],
      "source": [
        "# IMPORT PRETRAINED MODEL (VGG16) AND FINE-TUNE IT\n",
        "\n",
        "from tensorflow.keras.applications import VGG16\n",
        "from tensorflow.keras.models import Model\n",
        "from tensorflow.keras.layers import Dense, GlobalAveragePooling2D\n",
        "from tensorflow.keras.optimizers import Adam\n",
        "from tensorflow.keras.layers import Conv2D, MaxPooling2D, Flatten, Dense, Dropout, BatchNormalization\n",
        "from tensorflow.keras.callbacks import EarlyStopping\n",
        "\n",
        "# Define early stopping callback\n",
        "early_stopping = EarlyStopping(monitor='val_loss', patience=3, restore_best_weights=True)\n",
        "\n",
        "# Load the pre-trained VGG16 model (without top layers)\n",
        "base_model = VGG16(weights='imagenet', include_top=False, input_shape=(128, 128, 3))\n",
        "\n",
        "# Add custom top layers for binary classification\n",
        "x = base_model.output\n",
        "x = GlobalAveragePooling2D()(x)\n",
        "x = Dense(512, activation='relu')(x)\n",
        "x = Dropout(0.5)(x)\n",
        "predictions = Dense(1, activation='sigmoid')(x)\n",
        "\n",
        "# Create the fine-tuned model\n",
        "model3 = Model(inputs=base_model.input, outputs=predictions)\n",
        "\n",
        "# Compile the model\n",
        "optimizer = Adam(learning_rate=0.0001)  # Adjust learning rate as needed\n",
        "model3.compile(optimizer=optimizer, loss='binary_crossentropy', metrics=['accuracy'])\n",
        "\n",
        "# Train the model\n",
        "history = model3.fit(\n",
        "    train_generator,\n",
        "    steps_per_epoch=len(train_generator),\n",
        "    epochs=10,\n",
        "    validation_data=validation_generator,\n",
        "    validation_steps=len(validation_generator),\n",
        "    callbacks=[early_stopping]\n",
        ")\n"
      ]
    },
    {
      "cell_type": "code",
      "execution_count": 19,
      "metadata": {
        "colab": {
          "base_uri": "https://localhost:8080/"
        },
        "id": "CZHPDDs2tmNB",
        "outputId": "37773639-6fa2-480f-d489-0c038c160ba7"
      },
      "outputs": [
        {
          "output_type": "stream",
          "name": "stdout",
          "text": [
            "38/38 [==============================] - 3s 69ms/step - loss: 0.0683 - accuracy: 0.9789\n",
            "Fine-tuned Model - Validation Loss: 0.0682605430483818\n",
            "Fine-tuned Model - Validation Accuracy: 0.9789207577705383\n"
          ]
        }
      ],
      "source": [
        "# EVALUATE MODEL 3\n",
        "\n",
        "# Evaluate the fine-tuned model on the validation set\n",
        "evaluation = model3.evaluate(validation_generator)\n",
        "\n",
        "# Print fine-tuned model results\n",
        "print(\"Fine-tuned Model - Validation Loss:\", evaluation[0])\n",
        "print(\"Fine-tuned Model - Validation Accuracy:\", evaluation[1])"
      ]
    },
    {
      "cell_type": "code",
      "execution_count": 20,
      "metadata": {
        "colab": {
          "base_uri": "https://localhost:8080/"
        },
        "id": "SzODUea0Eb08",
        "outputId": "ef724a5b-3377-45ec-85c5-7d89ab847122"
      },
      "outputs": [
        {
          "output_type": "stream",
          "name": "stdout",
          "text": [
            "Downloading data from https://storage.googleapis.com/tensorflow/keras-applications/efficientnet_v2/efficientnetv2-l_notop.h5\n",
            "473176280/473176280 [==============================] - 22s 0us/step\n",
            "Epoch 1/10\n",
            "87/87 [==============================] - 271s 761ms/step - loss: 0.2776 - accuracy: 0.8617 - val_loss: 0.1059 - val_accuracy: 0.9528\n",
            "Epoch 2/10\n",
            "87/87 [==============================] - 56s 646ms/step - loss: 0.1073 - accuracy: 0.9609 - val_loss: 0.0798 - val_accuracy: 0.9680\n",
            "Epoch 3/10\n",
            "87/87 [==============================] - 55s 635ms/step - loss: 0.0740 - accuracy: 0.9772 - val_loss: 0.1137 - val_accuracy: 0.9578\n",
            "Epoch 4/10\n",
            "87/87 [==============================] - 56s 639ms/step - loss: 0.0639 - accuracy: 0.9797 - val_loss: 0.1093 - val_accuracy: 0.9587\n",
            "Epoch 5/10\n",
            "87/87 [==============================] - 56s 640ms/step - loss: 0.0571 - accuracy: 0.9786 - val_loss: 0.0503 - val_accuracy: 0.9806\n",
            "Epoch 6/10\n",
            "87/87 [==============================] - 60s 686ms/step - loss: 0.0421 - accuracy: 0.9852 - val_loss: 0.0640 - val_accuracy: 0.9781\n",
            "Epoch 7/10\n",
            "87/87 [==============================] - 56s 638ms/step - loss: 0.0388 - accuracy: 0.9859 - val_loss: 0.2013 - val_accuracy: 0.9191\n",
            "Epoch 8/10\n",
            "87/87 [==============================] - 56s 643ms/step - loss: 0.0414 - accuracy: 0.9870 - val_loss: 0.1081 - val_accuracy: 0.9511\n"
          ]
        }
      ],
      "source": [
        "# IMPORT PRETRAINED MODEL (EFFICIENTNETV2L) AND FINE-TUNE IT\n",
        "\n",
        "from tensorflow.keras.applications import EfficientNetV2L\n",
        "from tensorflow.keras.models import Model\n",
        "from tensorflow.keras.layers import Dense, GlobalAveragePooling2D\n",
        "from tensorflow.keras.optimizers import Adam\n",
        "from tensorflow.keras.layers import Conv2D, MaxPooling2D, Flatten, Dense, Dropout, BatchNormalization\n",
        "from tensorflow.keras.callbacks import EarlyStopping\n",
        "\n",
        "# Define early stopping callback\n",
        "early_stopping = EarlyStopping(monitor='val_loss', patience=3, restore_best_weights=True)\n",
        "\n",
        "# Load the pre-trained EfficientNetV2L model (without top layers)\n",
        "base_model = EfficientNetV2L(weights='imagenet', include_top=False, input_shape=(128, 128, 3))\n",
        "\n",
        "# Add custom top layers for binary classification\n",
        "x = base_model.output\n",
        "x = GlobalAveragePooling2D()(x)\n",
        "x = Dense(512, activation='relu')(x)\n",
        "x = Dropout(0.5)(x)\n",
        "predictions = Dense(1, activation='sigmoid')(x)\n",
        "\n",
        "# Create the fine-tuned model\n",
        "model4 = Model(inputs=base_model.input, outputs=predictions)\n",
        "\n",
        "# Compile the model\n",
        "optimizer = Adam(learning_rate=0.0001)  # Adjust learning rate as needed\n",
        "model4.compile(optimizer=optimizer, loss='binary_crossentropy', metrics=['accuracy'])\n",
        "\n",
        "# Train the model\n",
        "history = model4.fit(\n",
        "    train_generator,\n",
        "    steps_per_epoch=len(train_generator),\n",
        "    epochs=10,\n",
        "    validation_data=validation_generator,\n",
        "    validation_steps=len(validation_generator),\n",
        "    callbacks=[early_stopping]\n",
        ")\n"
      ]
    },
    {
      "cell_type": "code",
      "execution_count": 21,
      "metadata": {
        "colab": {
          "base_uri": "https://localhost:8080/"
        },
        "id": "UX9h-WpgFOuR",
        "outputId": "0d63531d-6150-4829-b9c5-3acc54794de6"
      },
      "outputs": [
        {
          "output_type": "stream",
          "name": "stdout",
          "text": [
            "38/38 [==============================] - 6s 156ms/step - loss: 0.0503 - accuracy: 0.9806\n",
            "Fine-tuned Model - Validation Loss: 0.05032174661755562\n",
            "Fine-tuned Model - Validation Accuracy: 0.9806070923805237\n"
          ]
        }
      ],
      "source": [
        "# EVALUATE MODEL 4\n",
        "\n",
        "# Evaluate the fine-tuned model on the validation set\n",
        "evaluation = model4.evaluate(validation_generator)\n",
        "\n",
        "# Print fine-tuned model results\n",
        "print(\"Fine-tuned Model - Validation Loss:\", evaluation[0])\n",
        "print(\"Fine-tuned Model - Validation Accuracy:\", evaluation[1])"
      ]
    },
    {
      "cell_type": "code",
      "execution_count": 13,
      "metadata": {
        "colab": {
          "base_uri": "https://localhost:8080/"
        },
        "id": "zvHUKhxSIjUG",
        "outputId": "29367ffc-3ecd-431b-d85f-2e78fc34567c"
      },
      "outputs": [
        {
          "output_type": "stream",
          "name": "stdout",
          "text": [
            "Downloading data from https://storage.googleapis.com/tensorflow/keras-applications/densenet/densenet121_weights_tf_dim_ordering_tf_kernels_notop.h5\n",
            "29084464/29084464 [==============================] - 0s 0us/step\n",
            "Epoch 1/10\n",
            "87/87 [==============================] - 510s 6s/step - loss: 0.2359 - accuracy: 0.9070 - val_loss: 0.1722 - val_accuracy: 0.9081\n",
            "Epoch 2/10\n",
            "87/87 [==============================] - 472s 5s/step - loss: 0.0692 - accuracy: 0.9703 - val_loss: 0.0766 - val_accuracy: 0.9747\n",
            "Epoch 3/10\n",
            "87/87 [==============================] - 476s 5s/step - loss: 0.0360 - accuracy: 0.9877 - val_loss: 0.0609 - val_accuracy: 0.9764\n",
            "Epoch 4/10\n",
            "87/87 [==============================] - 475s 5s/step - loss: 0.0384 - accuracy: 0.9852 - val_loss: 0.0576 - val_accuracy: 0.9789\n",
            "Epoch 5/10\n",
            "87/87 [==============================] - 480s 6s/step - loss: 0.0360 - accuracy: 0.9862 - val_loss: 0.0449 - val_accuracy: 0.9831\n",
            "Epoch 6/10\n",
            "87/87 [==============================] - 474s 5s/step - loss: 0.0269 - accuracy: 0.9899 - val_loss: 0.0394 - val_accuracy: 0.9882\n",
            "Epoch 7/10\n",
            "87/87 [==============================] - 474s 5s/step - loss: 0.0209 - accuracy: 0.9928 - val_loss: 0.0877 - val_accuracy: 0.9739\n",
            "Epoch 8/10\n",
            "87/87 [==============================] - 475s 5s/step - loss: 0.0223 - accuracy: 0.9928 - val_loss: 0.0467 - val_accuracy: 0.9848\n",
            "Epoch 9/10\n",
            "87/87 [==============================] - 473s 5s/step - loss: 0.0174 - accuracy: 0.9928 - val_loss: 0.0643 - val_accuracy: 0.9806\n"
          ]
        }
      ],
      "source": [
        "# IMPORT PRETRAINED MODEL (DENSENET121) AND FINE-TUNE IT\n",
        "\n",
        "from tensorflow.keras.applications import DenseNet121\n",
        "from tensorflow.keras.models import Model\n",
        "from tensorflow.keras.layers import Dense, GlobalAveragePooling2D\n",
        "from tensorflow.keras.optimizers import Adam\n",
        "from tensorflow.keras.layers import Conv2D, MaxPooling2D, Flatten, Dense, Dropout, BatchNormalization\n",
        "from tensorflow.keras.callbacks import EarlyStopping\n",
        "\n",
        "# Define early stopping callback\n",
        "early_stopping = EarlyStopping(monitor='val_loss', patience=3, restore_best_weights=True)\n",
        "\n",
        "# Load the pre-trained DenseNet121 model (without top layers)\n",
        "base_model = DenseNet121(weights='imagenet', include_top=False, input_shape=(128, 128, 3))\n",
        "\n",
        "# Add custom top layers for binary classification\n",
        "x = base_model.output\n",
        "x = GlobalAveragePooling2D()(x)\n",
        "x = Dense(512, activation='relu')(x)\n",
        "x = Dropout(0.5)(x)\n",
        "predictions = Dense(1, activation='sigmoid')(x)\n",
        "\n",
        "# Create the fine-tuned model\n",
        "model5 = Model(inputs=base_model.input, outputs=predictions)\n",
        "\n",
        "# Compile the model\n",
        "optimizer = Adam(learning_rate=0.0001)  # Adjust learning rate as needed\n",
        "model5.compile(optimizer=optimizer, loss='binary_crossentropy', metrics=['accuracy'])\n",
        "\n",
        "# Train the model\n",
        "history = model5.fit(\n",
        "    train_generator,\n",
        "    steps_per_epoch=len(train_generator),\n",
        "    epochs=10,\n",
        "    validation_data=validation_generator,\n",
        "    validation_steps=len(validation_generator),\n",
        "    callbacks=[early_stopping]\n",
        ")\n"
      ]
    },
    {
      "cell_type": "code",
      "execution_count": 14,
      "metadata": {
        "colab": {
          "base_uri": "https://localhost:8080/"
        },
        "id": "3TNpd12AJQ8v",
        "outputId": "5a8e5510-4775-449e-830b-6040a1aecd47"
      },
      "outputs": [
        {
          "output_type": "stream",
          "name": "stdout",
          "text": [
            "38/38 [==============================] - 38s 1s/step - loss: 0.0394 - accuracy: 0.9882\n",
            "Fine-tuned Model - Validation Loss: 0.03943205252289772\n",
            "Fine-tuned Model - Validation Accuracy: 0.9881955981254578\n"
          ]
        }
      ],
      "source": [
        "# EVALUATE MODEL 5\n",
        "\n",
        "# Evaluate the fine-tuned model on the validation set\n",
        "evaluation = model5.evaluate(validation_generator)\n",
        "\n",
        "# Print fine-tuned model results\n",
        "print(\"Fine-tuned Model - Validation Loss:\", evaluation[0])\n",
        "print(\"Fine-tuned Model - Validation Accuracy:\", evaluation[1])"
      ]
    },
    {
      "cell_type": "code",
      "execution_count": 15,
      "metadata": {
        "id": "yrqP-PS0eaTR"
      },
      "outputs": [],
      "source": [
        "# SAVE MODEL 5\n",
        "\n",
        "model5.save('training/model5.h5')"
      ]
    },
    {
      "cell_type": "markdown",
      "metadata": {
        "id": "98sOfgg9Vc5-"
      },
      "source": [
        "**PART 2 - MASKED IMAGES**"
      ]
    },
    {
      "cell_type": "code",
      "execution_count": 7,
      "metadata": {
        "colab": {
          "base_uri": "https://localhost:8080/"
        },
        "id": "WnwgmBvNVlB2",
        "outputId": "ac0b2a23-80b9-4bd4-c706-9cc55993cd16"
      },
      "outputs": [
        {
          "output_type": "stream",
          "name": "stderr",
          "text": [
            "Processing 10: 100%|██████████| 43/43 [02:06<00:00,  2.93s/it]\n",
            "Processing 11: 100%|██████████| 37/37 [01:53<00:00,  3.06s/it]\n",
            "Processing 12: 100%|██████████| 39/39 [02:58<00:00,  4.57s/it]\n",
            "Processing 01: 100%|██████████| 40/40 [02:15<00:00,  3.39s/it]\n",
            "Processing 03: 100%|██████████| 42/42 [02:45<00:00,  3.94s/it]\n",
            "Processing 02: 100%|██████████| 42/42 [03:35<00:00,  5.14s/it]\n",
            "Processing 04: 100%|██████████| 37/37 [02:09<00:00,  3.50s/it]\n",
            "Processing 05: 100%|██████████| 42/42 [02:46<00:00,  3.95s/it]\n",
            "Processing 06: 100%|██████████| 39/39 [02:11<00:00,  3.38s/it]\n",
            "Processing 07: 100%|██████████| 43/43 [02:54<00:00,  4.06s/it]\n",
            "Processing 08: 100%|██████████| 43/43 [01:53<00:00,  2.63s/it]\n",
            "Processing 09: 100%|██████████| 45/45 [02:48<00:00,  3.75s/it]"
          ]
        },
        {
          "output_type": "stream",
          "name": "stdout",
          "text": [
            "Preprocessing and saving complete.\n"
          ]
        },
        {
          "output_type": "stream",
          "name": "stderr",
          "text": [
            "\n"
          ]
        }
      ],
      "source": [
        "import os\n",
        "import json\n",
        "import numpy as np\n",
        "from tensorflow.keras.preprocessing.image import img_to_array, load_img\n",
        "from tqdm import tqdm\n",
        "from PIL import Image\n",
        "\n",
        "# Path to the FER_masked_Unmasked dataset\n",
        "dataset_root = '/content/drive/MyDrive/FER_masked_Unmasked'\n",
        "\n",
        "# Define target directory for preprocessed images\n",
        "preprocessed_dir = '/content/drive/MyDrive/Preprocessed_Masked_Images'\n",
        "\n",
        "image_size = (128, 128)\n",
        "emotion_labels = ['positive', 'negative']\n",
        "\n",
        "# Initialize lists to store data and labels for training and validation\n",
        "train_masked_images = []\n",
        "train_masked_labels = []\n",
        "val_masked_images = []\n",
        "val_masked_labels = []\n",
        "\n",
        "# Loop through masked subfolders\n",
        "for subfolder in os.listdir(os.path.join(dataset_root, 'AFEW-VA_masked')):\n",
        "    subfolder_path = os.path.join(dataset_root, 'AFEW-VA_masked', subfolder)\n",
        "    for image_folder in tqdm(os.listdir(subfolder_path), desc=f\"Processing {subfolder}\"):\n",
        "        image_folder_path = os.path.join(subfolder_path, image_folder)\n",
        "        json_path = os.path.join(image_folder_path, f\"{image_folder}.json\")\n",
        "\n",
        "        # Load arousal and valence values from JSON\n",
        "        with open(json_path, 'r') as json_file:\n",
        "            label_data = json.load(json_file)\n",
        "            json_part = list(list(label_data.values())[1].items())\n",
        "\n",
        "            for k, i in json_part:\n",
        "                image_name = k\n",
        "                arousal = list(i.values())[0]\n",
        "                valence = list(i.values())[2]\n",
        "\n",
        "                # Determine emotion label based on valence\n",
        "                if valence > 0:\n",
        "                    emotion_label = 'positive'\n",
        "                else:\n",
        "                    emotion_label = 'negative'\n",
        "\n",
        "                # Load and preprocess image\n",
        "                image_path = os.path.join(image_folder_path, image_name + '.png')\n",
        "\n",
        "                try:\n",
        "                    image = load_img(image_path, target_size=image_size)\n",
        "                    image_array = img_to_array(image) / 255.0  # Normalize pixel values to [0, 1]\n",
        "                except FileNotFoundError:\n",
        "                    # Skip this image if it's not found\n",
        "                    continue\n",
        "\n",
        "\n",
        "                # Determine if it's a training or validation image\n",
        "                if 'train' in image_name:\n",
        "                  train_masked_images.append(image_array)\n",
        "                  train_masked_labels.append(emotion_labels.index(emotion_label))\n",
        "                elif 'val' in image_name:\n",
        "                  val_masked_images.append(image_array)\n",
        "                  val_masked_labels.append(emotion_labels.index(emotion_label))\n",
        "\n",
        "print(\"Preprocessing and saving complete.\")\n"
      ]
    },
    {
      "cell_type": "code",
      "execution_count": 10,
      "metadata": {
        "id": "wSx9v1XvpTnI"
      },
      "outputs": [],
      "source": [
        "# AUGMENT TRAINING SET\n",
        "\n",
        "from tensorflow.keras.preprocessing.image import ImageDataGenerator\n",
        "\n",
        "# Convert lists to numpy arrays\n",
        "train_masked_images = np.array(train_masked_images)\n",
        "train_masked_labels = np.array(train_masked_labels)\n",
        "val_masked_images = np.array(val_masked_images)\n",
        "val_masked_labels = np.array(val_masked_labels)\n",
        "\n",
        "# Create an ImageDataGenerator for data augmentation on the training set\n",
        "train_datagen = ImageDataGenerator(\n",
        "    rotation_range=20,\n",
        "    width_shift_range=0.2,\n",
        "    height_shift_range=0.2,\n",
        "    shear_range=0.2,\n",
        "    zoom_range=0.2,\n",
        "    horizontal_flip=True,\n",
        "    fill_mode='nearest'\n",
        ")\n",
        "\n",
        "# Data augmentation for validation images (only rescaling)\n",
        "val_datagen = ImageDataGenerator(rescale=1.0/255.0)\n",
        "\n",
        "# Prepare the generators for training and validation\n",
        "batch_size = 32\n",
        "\n",
        "train_generator = train_datagen.flow(\n",
        "    train_masked_images, train_masked_labels,\n",
        "    batch_size=batch_size, shuffle=True\n",
        ")\n",
        "\n",
        "validation_generator = val_datagen.flow(\n",
        "    val_masked_images, val_masked_labels,\n",
        "    batch_size=batch_size, shuffle=False\n",
        ")\n"
      ]
    },
    {
      "cell_type": "code",
      "source": [
        "# MODEL 2 - MASKED IMAGES\n",
        "\n",
        "from tensorflow.keras.models import load_model\n",
        "from tensorflow.keras.optimizers import Adam\n",
        "from tensorflow.keras.callbacks import EarlyStopping\n",
        "from sklearn.metrics import confusion_matrix\n",
        "import matplotlib.pyplot as plt\n",
        "import seaborn as sns\n",
        "from sklearn.metrics import accuracy_score\n",
        "\n",
        "\n",
        "# Load the pretrained model from the saved path\n",
        "pretrained_model_path = 'training/model2.h5'\n",
        "pretrained_model = load_model(pretrained_model_path)\n",
        "\n",
        "# Compile the model\n",
        "pretrained_model.compile(optimizer='adam', loss='binary_crossentropy', metrics=['accuracy'])\n",
        "\n",
        "# Define EarlyStopping callback\n",
        "early_stopping = EarlyStopping(monitor='val_loss', patience=3, restore_best_weights=True)\n",
        "\n",
        "# Train with early stopping\n",
        "pretrained_model.fit(\n",
        "    train_datagen.flow(train_masked_images, train_masked_labels, batch_size=batch_size),\n",
        "    steps_per_epoch=len(train_masked_images) // batch_size,\n",
        "    epochs=10,\n",
        "    validation_data=(val_masked_images, val_masked_labels),\n",
        "    callbacks=[early_stopping]  # Add the early stopping callback\n",
        ")\n",
        "\n",
        "# Evaluate the model on the validation data\n",
        "val_masked_predictions = pretrained_model.predict(val_masked_images)\n",
        "val_masked_predicted_labels = (val_masked_predictions > 0.5).astype(int)  # Convert probabilities to binary labels\n",
        "val_masked_accuracy = accuracy_score(val_masked_labels, val_masked_predicted_labels)\n",
        "print(\"Validation Masked Accuracy:\", val_masked_accuracy)\n",
        "\n",
        "# Calculate the confusion matrix\n",
        "confusion = confusion_matrix(val_masked_labels, val_masked_predicted_labels)\n",
        "\n",
        "# Display the confusion matrix using a heatmap\n",
        "plt.figure(figsize=(8, 6))\n",
        "sns.heatmap(confusion, annot=True, fmt='d', cmap='Blues',\n",
        "            xticklabels=['Negative', 'Positive'],\n",
        "            yticklabels=['Negative', 'Positive'])\n",
        "plt.xlabel('Predicted')\n",
        "plt.ylabel('Actual')\n",
        "plt.title('Confusion Matrix')\n",
        "plt.show()\n"
      ],
      "metadata": {
        "colab": {
          "base_uri": "https://localhost:8080/",
          "height": 966
        },
        "id": "M44ZdVn10zXx",
        "outputId": "4a197b35-f0c6-4b9a-b227-01f5b92d3ec5"
      },
      "execution_count": 11,
      "outputs": [
        {
          "output_type": "stream",
          "name": "stdout",
          "text": [
            "Epoch 1/10\n",
            "219/219 [==============================] - 265s 1s/step - loss: 0.7519 - accuracy: 0.6143 - val_loss: 0.6274 - val_accuracy: 0.6453\n",
            "Epoch 2/10\n",
            "219/219 [==============================] - 264s 1s/step - loss: 0.6257 - accuracy: 0.6311 - val_loss: 0.6113 - val_accuracy: 0.6376\n",
            "Epoch 3/10\n",
            "219/219 [==============================] - 267s 1s/step - loss: 0.6085 - accuracy: 0.6303 - val_loss: 0.6359 - val_accuracy: 0.5992\n",
            "Epoch 4/10\n",
            "219/219 [==============================] - 257s 1s/step - loss: 0.5982 - accuracy: 0.6407 - val_loss: 0.6538 - val_accuracy: 0.6351\n",
            "Epoch 5/10\n",
            "219/219 [==============================] - 255s 1s/step - loss: 0.5827 - accuracy: 0.6579 - val_loss: 0.5825 - val_accuracy: 0.6799\n",
            "Epoch 6/10\n",
            "219/219 [==============================] - 257s 1s/step - loss: 0.5708 - accuracy: 0.6646 - val_loss: 0.6649 - val_accuracy: 0.6095\n",
            "Epoch 7/10\n",
            "219/219 [==============================] - 255s 1s/step - loss: 0.5613 - accuracy: 0.6758 - val_loss: 0.5556 - val_accuracy: 0.6940\n",
            "Epoch 8/10\n",
            "219/219 [==============================] - 257s 1s/step - loss: 0.5465 - accuracy: 0.6914 - val_loss: 0.5455 - val_accuracy: 0.6876\n",
            "Epoch 9/10\n",
            "219/219 [==============================] - 259s 1s/step - loss: 0.5219 - accuracy: 0.7105 - val_loss: 0.5314 - val_accuracy: 0.7132\n",
            "Epoch 10/10\n",
            "219/219 [==============================] - 277s 1s/step - loss: 0.5091 - accuracy: 0.7213 - val_loss: 0.6719 - val_accuracy: 0.6440\n",
            "25/25 [==============================] - 6s 238ms/step\n",
            "Validation Masked Accuracy: 0.6440460947503202\n"
          ]
        },
        {
          "output_type": "display_data",
          "data": {
            "text/plain": [
              "<Figure size 800x600 with 2 Axes>"
            ],
            "image/png": "[encoded data removed]"
          },
          "metadata": {}
        }
      ]
    },
    {
      "cell_type": "code",
      "source": [
        "# Print class distribution of validation data\n",
        "print(\"Validation Class Distribution:\")\n",
        "print(\"Negative:\", np.sum(val_masked_labels == 0))\n",
        "print(\"Positive:\", np.sum(val_masked_labels == 1))\n"
      ],
      "metadata": {
        "colab": {
          "base_uri": "https://localhost:8080/"
        },
        "id": "TytNhD2tpcH1",
        "outputId": "5d1282a0-87d1-4174-f617-13ff5a4ad80d"
      },
      "execution_count": 28,
      "outputs": [
        {
          "output_type": "stream",
          "name": "stdout",
          "text": [
            "Validation Class Distribution:\n",
            "Negative: 303\n",
            "Positive: 478\n"
          ]
        }
      ]
    },
    {
      "cell_type": "code",
      "execution_count": 30,
      "metadata": {
        "id": "nl8VKS6wnhCo",
        "colab": {
          "base_uri": "https://localhost:8080/",
          "height": 966
        },
        "outputId": "7e2e4744-2643-46f1-e2fc-e94b5c83b3ca"
      },
      "outputs": [
        {
          "output_type": "stream",
          "name": "stdout",
          "text": [
            "Epoch 1/10\n",
            "219/219 [==============================] - 121s 236ms/step - loss: 0.5778 - accuracy: 0.7301 - val_loss: 1.4901 - val_accuracy: 0.6095\n",
            "Epoch 2/10\n",
            "219/219 [==============================] - 48s 218ms/step - loss: 0.3702 - accuracy: 0.8478 - val_loss: 1.0249 - val_accuracy: 0.8015\n",
            "Epoch 3/10\n",
            "219/219 [==============================] - 46s 212ms/step - loss: 0.2769 - accuracy: 0.8902 - val_loss: 0.2756 - val_accuracy: 0.9040\n",
            "Epoch 4/10\n",
            "219/219 [==============================] - 47s 215ms/step - loss: 0.2243 - accuracy: 0.9110 - val_loss: 0.1677 - val_accuracy: 0.9385\n",
            "Epoch 5/10\n",
            "219/219 [==============================] - 49s 224ms/step - loss: 0.1884 - accuracy: 0.9312 - val_loss: 0.3210 - val_accuracy: 0.8796\n",
            "Epoch 6/10\n",
            "219/219 [==============================] - 47s 216ms/step - loss: 0.1585 - accuracy: 0.9398 - val_loss: 0.0948 - val_accuracy: 0.9641\n",
            "Epoch 7/10\n",
            "219/219 [==============================] - 46s 211ms/step - loss: 0.1426 - accuracy: 0.9495 - val_loss: 0.1939 - val_accuracy: 0.9373\n",
            "Epoch 8/10\n",
            "219/219 [==============================] - 47s 215ms/step - loss: 0.1281 - accuracy: 0.9547 - val_loss: 0.5759 - val_accuracy: 0.8784\n",
            "Epoch 9/10\n",
            "219/219 [==============================] - 47s 214ms/step - loss: 0.1295 - accuracy: 0.9528 - val_loss: 0.0800 - val_accuracy: 0.9654\n",
            "Epoch 10/10\n",
            "219/219 [==============================] - 48s 221ms/step - loss: 0.1052 - accuracy: 0.9615 - val_loss: 0.4780 - val_accuracy: 0.8784\n",
            "25/25 [==============================] - 3s 35ms/step\n",
            "Validation Masked Accuracy: 0.8783610755441741\n"
          ]
        },
        {
          "output_type": "display_data",
          "data": {
            "text/plain": [
              "<Figure size 800x600 with 2 Axes>"
            ],
            "image/png": "[encoded data removed]"
          },
          "metadata": {}
        }
      ],
      "source": [
        "# MODEL 5 - FINE-TUNING ONLY LAST LAYER (MASKED IMAGES)\n",
        "\n",
        "from tensorflow.keras.models import load_model\n",
        "from tensorflow.keras.optimizers import Adam\n",
        "from tensorflow.keras.callbacks import EarlyStopping\n",
        "from sklearn.metrics import confusion_matrix\n",
        "import matplotlib.pyplot as plt\n",
        "import seaborn as sns\n",
        "from sklearn.metrics import accuracy_score\n",
        "\n",
        "\n",
        "# Load the pretrained model from the saved path\n",
        "pretrained_model_path = 'training/model5.h5'\n",
        "pretrained_model = load_model(pretrained_model_path)\n",
        "\n",
        "# Compile the model\n",
        "pretrained_model.compile(optimizer='adam', loss='binary_crossentropy', metrics=['accuracy'])\n",
        "\n",
        "# Define EarlyStopping callback\n",
        "early_stopping = EarlyStopping(monitor='val_loss', patience=3, restore_best_weights=True)\n",
        "\n",
        "# Train the last layer on the augmented training data with early stopping\n",
        "pretrained_model.layers[-1].trainable = True  # Make only the last layer trainable\n",
        "pretrained_model.fit(\n",
        "    train_datagen.flow(train_masked_images, train_masked_labels, batch_size=batch_size),\n",
        "    steps_per_epoch=len(train_masked_images) // batch_size,\n",
        "    epochs=10,\n",
        "    validation_data=(val_masked_images, val_masked_labels),\n",
        "    callbacks=[early_stopping]  # Add the early stopping callback\n",
        ")\n",
        "\n",
        "# Evaluate the model on the validation data\n",
        "val_masked_predictions = pretrained_model.predict(val_masked_images)\n",
        "val_masked_predicted_labels = (val_masked_predictions > 0.5).astype(int)  # Convert probabilities to binary labels\n",
        "val_masked_accuracy = accuracy_score(val_masked_labels, val_masked_predicted_labels)\n",
        "print(\"Validation Masked Accuracy:\", val_masked_accuracy)\n",
        "\n",
        "# Calculate the confusion matrix\n",
        "confusion = confusion_matrix(val_masked_labels, val_masked_predicted_labels)\n",
        "\n",
        "# Display the confusion matrix using a heatmap\n",
        "plt.figure(figsize=(8, 6))\n",
        "sns.heatmap(confusion, annot=True, fmt='d', cmap='Blues',\n",
        "            xticklabels=['Negative', 'Positive'],\n",
        "            yticklabels=['Negative', 'Positive'])\n",
        "plt.xlabel('Predicted')\n",
        "plt.ylabel('Actual')\n",
        "plt.title('Confusion Matrix')\n",
        "plt.show()\n"
      ]
    },
    {
      "cell_type": "code",
      "source": [
        "# MODEL 5 - FINE-TUNING ALL LAYERS (MASKED IMAGES)\n",
        "\n",
        "from tensorflow.keras.models import load_model\n",
        "from tensorflow.keras.optimizers import Adam\n",
        "from tensorflow.keras.callbacks import EarlyStopping\n",
        "from sklearn.metrics import confusion_matrix\n",
        "import matplotlib.pyplot as plt\n",
        "import seaborn as sns\n",
        "\n",
        "# Load the pretrained model from the saved path\n",
        "pretrained_model_path = 'training/model5.h5'\n",
        "pretrained_model = load_model(pretrained_model_path)\n",
        "\n",
        "# Compile the model\n",
        "pretrained_model.compile(optimizer='adam', loss='binary_crossentropy', metrics=['accuracy'])\n",
        "\n",
        "# Define EarlyStopping callback\n",
        "early_stopping = EarlyStopping(monitor='val_loss', patience=3, restore_best_weights=True)\n",
        "\n",
        "# Train all layers on the augmented training data with early stopping\n",
        "pretrained_model.trainable = True  # Make all layers trainable\n",
        "pretrained_model.fit(\n",
        "    train_datagen.flow(train_masked_images, train_masked_labels, batch_size=batch_size),\n",
        "    steps_per_epoch=len(train_masked_images) // batch_size,\n",
        "    epochs=10,\n",
        "    validation_data=(val_masked_images, val_masked_labels),\n",
        "    callbacks=[early_stopping]  # Add the early stopping callback\n",
        ")\n",
        "\n",
        "# Evaluate the model on the validation data\n",
        "val_masked_predictions = pretrained_model.predict(val_masked_images)\n",
        "val_masked_predicted_labels = (val_masked_predictions > 0.5).astype(int)  # Convert probabilities to binary labels\n",
        "val_masked_accuracy = accuracy_score(val_masked_labels, val_masked_predicted_labels)\n",
        "print(\"Validation Masked Accuracy:\", val_masked_accuracy)\n",
        "\n",
        "# Calculate the confusion matrix\n",
        "confusion = confusion_matrix(val_masked_labels, val_masked_predicted_labels)\n",
        "\n",
        "# Display the confusion matrix using a heatmap\n",
        "plt.figure(figsize=(8, 6))\n",
        "sns.heatmap(confusion, annot=True, fmt='d', cmap='Blues',\n",
        "            xticklabels=['Negative', 'Positive'],\n",
        "            yticklabels=['Negative', 'Positive'])\n",
        "plt.xlabel('Predicted')\n",
        "plt.ylabel('Actual')\n",
        "plt.title('Confusion Matrix')\n",
        "plt.show()\n"
      ],
      "metadata": {
        "colab": {
          "base_uri": "https://localhost:8080/",
          "height": 862
        },
        "id": "CTPd3llZSKmN",
        "outputId": "3e8cbf42-4cbe-444a-cc04-6ed806a62754"
      },
      "execution_count": 31,
      "outputs": [
        {
          "output_type": "stream",
          "name": "stdout",
          "text": [
            "Epoch 1/10\n",
            "219/219 [==============================] - 129s 228ms/step - loss: 0.5420 - accuracy: 0.7564 - val_loss: 0.5652 - val_accuracy: 0.7977\n",
            "Epoch 2/10\n",
            "219/219 [==============================] - 49s 223ms/step - loss: 0.3314 - accuracy: 0.8603 - val_loss: 2.1208 - val_accuracy: 0.6581\n",
            "Epoch 3/10\n",
            "219/219 [==============================] - 267s 1s/step - loss: 0.2451 - accuracy: 0.9059 - val_loss: 0.2884 - val_accuracy: 0.8784\n",
            "Epoch 4/10\n",
            "219/219 [==============================] - 47s 213ms/step - loss: 0.2037 - accuracy: 0.9213 - val_loss: 0.2712 - val_accuracy: 0.9052\n",
            "Epoch 5/10\n",
            "219/219 [==============================] - 48s 217ms/step - loss: 0.1735 - accuracy: 0.9336 - val_loss: 1.9923 - val_accuracy: 0.7260\n",
            "Epoch 6/10\n",
            "219/219 [==============================] - 47s 213ms/step - loss: 0.1499 - accuracy: 0.9464 - val_loss: 0.5222 - val_accuracy: 0.8259\n",
            "Epoch 7/10\n",
            "219/219 [==============================] - 50s 227ms/step - loss: 0.1417 - accuracy: 0.9474 - val_loss: 1.6047 - val_accuracy: 0.7260\n",
            "25/25 [==============================] - 3s 34ms/step\n",
            "Validation Masked Accuracy: 0.9052496798975672\n"
          ]
        },
        {
          "output_type": "display_data",
          "data": {
            "text/plain": [
              "<Figure size 800x600 with 2 Axes>"
            ],
            "image/png": "[encoded data removed]"
          },
          "metadata": {}
        }
      ]
    },
    {
      "cell_type": "markdown",
      "metadata": {
        "id": "k7Gq-4uwDCK9"
      },
      "source": [
        "**PART 2 - UNMASKED IMAGES**"
      ]
    },
    {
      "cell_type": "code",
      "execution_count": 4,
      "metadata": {
        "id": "oXR5Nlfun3er",
        "colab": {
          "base_uri": "https://localhost:8080/"
        },
        "outputId": "fce7ce5b-4257-491b-af58-de0d8f649bee"
      },
      "outputs": [
        {
          "output_type": "stream",
          "name": "stderr",
          "text": [
            "Processing 10: 100%|██████████| 40/40 [01:48<00:00,  2.71s/it]\n",
            "Processing 11: 100%|██████████| 35/35 [01:35<00:00,  2.74s/it]\n",
            "Processing 12: 100%|██████████| 38/38 [01:57<00:00,  3.09s/it]\n",
            "Processing 01: 100%|██████████| 36/36 [01:58<00:00,  3.29s/it]\n",
            "Processing 02: 100%|██████████| 34/34 [01:32<00:00,  2.73s/it]\n",
            "Processing 03: 100%|██████████| 34/34 [02:00<00:00,  3.55s/it]\n",
            "Processing 04: 100%|██████████| 37/37 [02:11<00:00,  3.56s/it]\n",
            "Processing 06: 100%|██████████| 36/36 [01:39<00:00,  2.76s/it]\n",
            "Processing 05: 100%|██████████| 36/36 [02:01<00:00,  3.37s/it]\n",
            "Processing 07: 100%|██████████| 41/41 [02:23<00:00,  3.50s/it]\n",
            "Processing 08: 100%|██████████| 41/41 [02:08<00:00,  3.14s/it]\n",
            "Processing 09: 100%|██████████| 45/45 [02:55<00:00,  3.89s/it]"
          ]
        },
        {
          "output_type": "stream",
          "name": "stdout",
          "text": [
            "Preprocessing and saving complete.\n"
          ]
        },
        {
          "output_type": "stream",
          "name": "stderr",
          "text": [
            "\n"
          ]
        }
      ],
      "source": [
        "# CREATE TRAINING AND VALIDATION SETS FOR UNMASKED IMAGES\n",
        "\n",
        "import os\n",
        "import json\n",
        "import numpy as np\n",
        "from tensorflow.keras.preprocessing.image import img_to_array, load_img\n",
        "from tqdm import tqdm\n",
        "from PIL import Image\n",
        "\n",
        "# Path to the FER_masked_Unmasked dataset\n",
        "dataset_root = '/content/drive/MyDrive/FER_masked_Unmasked'\n",
        "\n",
        "# Define target directory for preprocessed images\n",
        "preprocessed_dir = '/content/drive/MyDrive/Preprocessed_Unmasked_Images'\n",
        "\n",
        "image_size = (128, 128)\n",
        "emotion_labels = ['positive', 'negative']\n",
        "\n",
        "# Initialize lists to store data and labels for training and validation\n",
        "train_unmasked_images = []\n",
        "train_unmasked_labels = []\n",
        "val_unmasked_images = []\n",
        "val_unmasked_labels = []\n",
        "\n",
        "# Loop through masked subfolders\n",
        "for subfolder in os.listdir(os.path.join(dataset_root, 'AFEW-VA_unmasked')):\n",
        "    subfolder_path = os.path.join(dataset_root, 'AFEW-VA_unmasked', subfolder)\n",
        "    for image_folder in tqdm(os.listdir(subfolder_path), desc=f\"Processing {subfolder}\"):\n",
        "        image_folder_path = os.path.join(subfolder_path, image_folder)\n",
        "        json_path = os.path.join(image_folder_path, f\"{image_folder}.json\")\n",
        "\n",
        "        # Load arousal and valence values from JSON\n",
        "        with open(json_path, 'r') as json_file:\n",
        "            label_data = json.load(json_file)\n",
        "            json_part = list(list(label_data.values())[1].items())\n",
        "\n",
        "            for k, i in json_part:\n",
        "                image_name = k\n",
        "                arousal = list(i.values())[0]\n",
        "                valence = list(i.values())[2]\n",
        "\n",
        "                # Determine emotion label based on valence\n",
        "                if valence > 0:\n",
        "                    emotion_label = 'positive'\n",
        "                else:\n",
        "                    emotion_label = 'negative'\n",
        "\n",
        "                # Load and preprocess image\n",
        "                image_path = os.path.join(image_folder_path, image_name + '.png')\n",
        "\n",
        "                try:\n",
        "                    image = load_img(image_path, target_size=image_size)\n",
        "                    image_array = img_to_array(image) / 255.0  # Normalize pixel values to [0, 1]\n",
        "                except FileNotFoundError:\n",
        "                    # Skip this image if it's not found\n",
        "                    continue\n",
        "\n",
        "\n",
        "                # Determine if it's a training or validation image\n",
        "                if 'train' in image_name:\n",
        "                  train_unmasked_images.append(image_array)\n",
        "                  train_unmasked_labels.append(emotion_labels.index(emotion_label))\n",
        "                elif 'val' in image_name:\n",
        "                  val_unmasked_images.append(image_array)\n",
        "                  val_unmasked_labels.append(emotion_labels.index(emotion_label))\n",
        "\n",
        "print(\"Preprocessing and saving complete.\")\n"
      ]
    },
    {
      "cell_type": "code",
      "execution_count": 5,
      "metadata": {
        "id": "xBaCEbP3ZpNr"
      },
      "outputs": [],
      "source": [
        "# AUGMENT TRAINING SET\n",
        "\n",
        "from tensorflow.keras.preprocessing.image import ImageDataGenerator\n",
        "\n",
        "# Convert lists to numpy arrays\n",
        "train_unmasked_images = np.array(train_unmasked_images)\n",
        "train_unmasked_labels = np.array(train_unmasked_labels)\n",
        "val_unmasked_images = np.array(val_unmasked_images)\n",
        "val_unmasked_labels = np.array(val_unmasked_labels)\n",
        "\n",
        "# Create an ImageDataGenerator for data augmentation on the training set\n",
        "train_datagen = ImageDataGenerator(\n",
        "    rotation_range=20,\n",
        "    width_shift_range=0.2,\n",
        "    height_shift_range=0.2,\n",
        "    shear_range=0.2,\n",
        "    zoom_range=0.2,\n",
        "    horizontal_flip=True,\n",
        "    fill_mode='nearest'\n",
        ")\n",
        "\n",
        "# Data augmentation for validation images (only rescaling)\n",
        "val_datagen = ImageDataGenerator(rescale=1.0/255.0)\n",
        "\n",
        "# Prepare the generators for training and validation\n",
        "batch_size = 32\n",
        "\n",
        "train_generator = train_datagen.flow(\n",
        "    train_unmasked_images, train_unmasked_labels,\n",
        "    batch_size=batch_size, shuffle=True\n",
        ")\n",
        "\n",
        "validation_generator = val_datagen.flow(\n",
        "    val_unmasked_images, val_unmasked_labels,\n",
        "    batch_size=batch_size, shuffle=False\n",
        ")\n"
      ]
    },
    {
      "cell_type": "code",
      "source": [
        "# Print class distribution of validation data\n",
        "print(\"Validation Class Distribution:\")\n",
        "print(\"Negative:\", np.sum(val_unmasked_labels == 0))\n",
        "print(\"Positive:\", np.sum(val_unmasked_labels == 1))"
      ],
      "metadata": {
        "colab": {
          "base_uri": "https://localhost:8080/"
        },
        "id": "a1NBao6HjWht",
        "outputId": "0cd24f55-d429-4e36-f15a-734855572601"
      },
      "execution_count": 6,
      "outputs": [
        {
          "output_type": "stream",
          "name": "stdout",
          "text": [
            "Validation Class Distribution:\n",
            "Negative: 159\n",
            "Positive: 472\n"
          ]
        }
      ]
    },
    {
      "cell_type": "code",
      "execution_count": 18,
      "metadata": {
        "id": "O9qaCRLDGhoB",
        "colab": {
          "base_uri": "https://localhost:8080/",
          "height": 931
        },
        "outputId": "a5437c8c-b53b-4392-b902-c99bf22a568e"
      },
      "outputs": [
        {
          "output_type": "stream",
          "name": "stdout",
          "text": [
            "Epoch 1/10\n",
            "176/176 [==============================] - 211s 1s/step - loss: 0.7675 - accuracy: 0.7137 - val_loss: 0.5153 - val_accuracy: 0.7480\n",
            "Epoch 2/10\n",
            "176/176 [==============================] - 204s 1s/step - loss: 0.5504 - accuracy: 0.7458 - val_loss: 0.5049 - val_accuracy: 0.7448\n",
            "Epoch 3/10\n",
            "176/176 [==============================] - 202s 1s/step - loss: 0.5264 - accuracy: 0.7528 - val_loss: 0.4509 - val_accuracy: 0.7861\n",
            "Epoch 4/10\n",
            "176/176 [==============================] - 203s 1s/step - loss: 0.5045 - accuracy: 0.7579 - val_loss: 0.4989 - val_accuracy: 0.7496\n",
            "Epoch 5/10\n",
            "176/176 [==============================] - 205s 1s/step - loss: 0.4981 - accuracy: 0.7611 - val_loss: 0.4769 - val_accuracy: 0.7528\n",
            "Epoch 6/10\n",
            "176/176 [==============================] - 206s 1s/step - loss: 0.4739 - accuracy: 0.7696 - val_loss: 0.4303 - val_accuracy: 0.7971\n",
            "Epoch 7/10\n",
            "176/176 [==============================] - 203s 1s/step - loss: 0.4554 - accuracy: 0.7840 - val_loss: 0.5582 - val_accuracy: 0.7908\n",
            "Epoch 8/10\n",
            "176/176 [==============================] - 204s 1s/step - loss: 0.4482 - accuracy: 0.7876 - val_loss: 0.5720 - val_accuracy: 0.7829\n",
            "Epoch 9/10\n",
            "176/176 [==============================] - 204s 1s/step - loss: 0.4162 - accuracy: 0.8150 - val_loss: 0.4377 - val_accuracy: 0.7971\n",
            "20/20 [==============================] - 5s 235ms/step\n",
            "Validation Masked Accuracy: 0.7971473851030111\n"
          ]
        },
        {
          "output_type": "display_data",
          "data": {
            "text/plain": [
              "<Figure size 800x600 with 2 Axes>"
            ],
            "image/png": "[encoded data removed]"
          },
          "metadata": {}
        }
      ],
      "source": [
        "# MODEL 2 - UNMASKED IMAGES\n",
        "\n",
        "from tensorflow.keras.models import load_model\n",
        "from tensorflow.keras.optimizers import Adam\n",
        "from tensorflow.keras.callbacks import EarlyStopping\n",
        "from sklearn.metrics import confusion_matrix\n",
        "import matplotlib.pyplot as plt\n",
        "import seaborn as sns\n",
        "from sklearn.metrics import accuracy_score\n",
        "\n",
        "\n",
        "# Load the pretrained model from the saved path\n",
        "pretrained_model_path = 'training/model2.h5'\n",
        "pretrained_model = load_model(pretrained_model_path)\n",
        "\n",
        "# Compile the model\n",
        "pretrained_model.compile(optimizer='adam', loss='binary_crossentropy', metrics=['accuracy'])\n",
        "\n",
        "# Define EarlyStopping callback\n",
        "early_stopping = EarlyStopping(monitor='val_loss', patience=3, restore_best_weights=True)\n",
        "\n",
        "# Train with early stopping\n",
        "pretrained_model.fit(\n",
        "    train_datagen.flow(train_unmasked_images, train_unmasked_labels, batch_size=batch_size),\n",
        "    steps_per_epoch=len(train_unmasked_images) // batch_size,\n",
        "    epochs=10,\n",
        "    validation_data=(val_unmasked_images, val_unmasked_labels),\n",
        "    callbacks=[early_stopping]  # Add the early stopping callback\n",
        ")\n",
        "\n",
        "# Evaluate the model on the validation data\n",
        "val_unmasked_predictions = pretrained_model.predict(val_unmasked_images)\n",
        "val_unmasked_predicted_labels = (val_unmasked_predictions > 0.5).astype(int)  # Convert probabilities to binary labels\n",
        "val_unmasked_accuracy = accuracy_score(val_unmasked_labels, val_unmasked_predicted_labels)\n",
        "print(\"Validation Masked Accuracy:\", val_unmasked_accuracy)\n",
        "\n",
        "# Calculate the confusion matrix\n",
        "confusion = confusion_matrix(val_unmasked_labels, val_unmasked_predicted_labels)\n",
        "\n",
        "# Display the confusion matrix using a heatmap\n",
        "plt.figure(figsize=(8, 6))\n",
        "sns.heatmap(confusion, annot=True, fmt='d', cmap='Blues',\n",
        "            xticklabels=['Negative', 'Positive'],\n",
        "            yticklabels=['Negative', 'Positive'])\n",
        "plt.xlabel('Predicted')\n",
        "plt.ylabel('Actual')\n",
        "plt.title('Confusion Matrix')\n",
        "plt.show()\n"
      ]
    },
    {
      "cell_type": "code",
      "execution_count": 19,
      "metadata": {
        "id": "oAy8bl3yHbqz",
        "colab": {
          "base_uri": "https://localhost:8080/",
          "height": 827
        },
        "outputId": "42d3ea44-5c25-4847-cdb4-0db6f275c0ce"
      },
      "outputs": [
        {
          "output_type": "stream",
          "name": "stdout",
          "text": [
            "Epoch 1/10\n",
            "176/176 [==============================] - 931s 5s/step - loss: 0.4463 - accuracy: 0.8215 - val_loss: 4.9923 - val_accuracy: 0.7480\n",
            "Epoch 2/10\n",
            "176/176 [==============================] - 901s 5s/step - loss: 0.2438 - accuracy: 0.9074 - val_loss: 0.2480 - val_accuracy: 0.8891\n",
            "Epoch 3/10\n",
            "176/176 [==============================] - 899s 5s/step - loss: 0.1904 - accuracy: 0.9293 - val_loss: 0.1369 - val_accuracy: 0.9588\n",
            "Epoch 4/10\n",
            "176/176 [==============================] - 895s 5s/step - loss: 0.1536 - accuracy: 0.9461 - val_loss: 1.4259 - val_accuracy: 0.7290\n",
            "Epoch 5/10\n",
            "176/176 [==============================] - 894s 5s/step - loss: 0.1266 - accuracy: 0.9563 - val_loss: 0.3026 - val_accuracy: 0.9239\n",
            "Epoch 6/10\n",
            "176/176 [==============================] - 896s 5s/step - loss: 0.1191 - accuracy: 0.9575 - val_loss: 0.2219 - val_accuracy: 0.9017\n",
            "20/20 [==============================] - 22s 1s/step\n",
            "Validation Masked Accuracy: 0.9587955625990491\n"
          ]
        },
        {
          "output_type": "display_data",
          "data": {
            "text/plain": [
              "<Figure size 800x600 with 2 Axes>"
            ],
            "image/png": "[encoded data removed]"
          },
          "metadata": {}
        }
      ],
      "source": [
        "# MODEL 5 - FINE-TUNING ONLY LAST LAYER (UNMASKED IMAGES)\n",
        "\n",
        "from tensorflow.keras.models import load_model\n",
        "from tensorflow.keras.optimizers import Adam\n",
        "from tensorflow.keras.callbacks import EarlyStopping\n",
        "from sklearn.metrics import confusion_matrix\n",
        "import matplotlib.pyplot as plt\n",
        "import seaborn as sns\n",
        "from sklearn.metrics import accuracy_score\n",
        "\n",
        "\n",
        "# Load the pretrained model from the saved path\n",
        "pretrained_model_path = 'training/model5.h5'\n",
        "pretrained_model = load_model(pretrained_model_path)\n",
        "\n",
        "# Compile the model\n",
        "pretrained_model.compile(optimizer='adam', loss='binary_crossentropy', metrics=['accuracy'])\n",
        "\n",
        "# Define EarlyStopping callback\n",
        "early_stopping = EarlyStopping(monitor='val_loss', patience=3, restore_best_weights=True)\n",
        "\n",
        "# Train the last layer on the augmented training data with early stopping\n",
        "pretrained_model.layers[-1].trainable = True  # Make only the last layer trainable\n",
        "pretrained_model.fit(\n",
        "    train_datagen.flow(train_unmasked_images, train_unmasked_labels, batch_size=batch_size),\n",
        "    steps_per_epoch=len(train_unmasked_images) // batch_size,\n",
        "    epochs=10,\n",
        "    validation_data=(val_unmasked_images, val_unmasked_labels),\n",
        "    callbacks=[early_stopping]  # Add the early stopping callback\n",
        ")\n",
        "\n",
        "# Evaluate the model on the validation data\n",
        "val_unmasked_predictions = pretrained_model.predict(val_unmasked_images)\n",
        "val_unmasked_predicted_labels = (val_unmasked_predictions > 0.5).astype(int)  # Convert probabilities to binary labels\n",
        "val_unmasked_accuracy = accuracy_score(val_unmasked_labels, val_unmasked_predicted_labels)\n",
        "print(\"Validation Masked Accuracy:\", val_unmasked_accuracy)\n",
        "\n",
        "# Calculate the confusion matrix\n",
        "confusion = confusion_matrix(val_unmasked_labels, val_unmasked_predicted_labels)\n",
        "\n",
        "# Display the confusion matrix using a heatmap\n",
        "plt.figure(figsize=(8, 6))\n",
        "sns.heatmap(confusion, annot=True, fmt='d', cmap='Blues',\n",
        "            xticklabels=['Negative', 'Positive'],\n",
        "            yticklabels=['Negative', 'Positive'])\n",
        "plt.xlabel('Predicted')\n",
        "plt.ylabel('Actual')\n",
        "plt.title('Confusion Matrix')\n",
        "plt.show()\n"
      ]
    },
    {
      "cell_type": "code",
      "source": [
        "# MODEL 5 - FINE-TUNING ALL LAYERS (MASKED IMAGES)\n",
        "\n",
        "from tensorflow.keras.models import load_model\n",
        "from tensorflow.keras.optimizers import Adam\n",
        "from tensorflow.keras.callbacks import EarlyStopping\n",
        "from sklearn.metrics import confusion_matrix\n",
        "import matplotlib.pyplot as plt\n",
        "import seaborn as sns\n",
        "\n",
        "# Load the pretrained model from the saved path\n",
        "pretrained_model_path = 'training/model5.h5'\n",
        "pretrained_model = load_model(pretrained_model_path)\n",
        "\n",
        "# Compile the model\n",
        "pretrained_model.compile(optimizer='adam', loss='binary_crossentropy', metrics=['accuracy'])\n",
        "\n",
        "# Define EarlyStopping callback\n",
        "early_stopping = EarlyStopping(monitor='val_loss', patience=3, restore_best_weights=True)\n",
        "\n",
        "# Train all layers on the augmented training data with early stopping\n",
        "pretrained_model.trainable = True  # Make all layers trainable\n",
        "pretrained_model.fit(\n",
        "    train_datagen.flow(train_unmasked_images, train_unmasked_labels, batch_size=batch_size),\n",
        "    steps_per_epoch=len(train_unmasked_images) // batch_size,\n",
        "    epochs=10,\n",
        "    validation_data=(val_unmasked_images, val_unmasked_labels),\n",
        "    callbacks=[early_stopping]  # Add the early stopping callback\n",
        ")\n",
        "\n",
        "# Evaluate the model on the validation data\n",
        "val_unmasked_predictions = pretrained_model.predict(val_unmasked_images)\n",
        "val_unmasked_predicted_labels = (val_unmasked_predictions > 0.5).astype(int)  # Convert probabilities to binary labels\n",
        "val_unmasked_accuracy = accuracy_score(val_unmasked_labels, val_unmasked_predicted_labels)\n",
        "print(\"Validation Masked Accuracy:\", val_unmasked_accuracy)\n",
        "\n",
        "# Calculate the confusion matrix\n",
        "confusion = confusion_matrix(val_unmasked_labels, val_unmasked_predicted_labels)\n",
        "\n",
        "# Display the confusion matrix using a heatmap\n",
        "plt.figure(figsize=(8, 6))\n",
        "sns.heatmap(confusion, annot=True, fmt='d', cmap='Blues',\n",
        "            xticklabels=['Negative', 'Positive'],\n",
        "            yticklabels=['Negative', 'Positive'])\n",
        "plt.xlabel('Predicted')\n",
        "plt.ylabel('Actual')\n",
        "plt.title('Confusion Matrix')\n",
        "plt.show()\n"
      ],
      "metadata": {
        "colab": {
          "base_uri": "https://localhost:8080/",
          "height": 896
        },
        "id": "3NZEoc0F2MbG",
        "outputId": "62e213e1-c861-4ecd-8280-0d4f4a2d0c82"
      },
      "execution_count": 20,
      "outputs": [
        {
          "output_type": "stream",
          "name": "stdout",
          "text": [
            "Epoch 1/10\n",
            "176/176 [==============================] - 926s 5s/step - loss: 0.5216 - accuracy: 0.7922 - val_loss: 0.7371 - val_accuracy: 0.6624\n",
            "Epoch 2/10\n",
            "176/176 [==============================] - 896s 5s/step - loss: 0.3060 - accuracy: 0.8829 - val_loss: 0.4072 - val_accuracy: 0.8748\n",
            "Epoch 3/10\n",
            "176/176 [==============================] - 899s 5s/step - loss: 0.2206 - accuracy: 0.9182 - val_loss: 0.1912 - val_accuracy: 0.9445\n",
            "Epoch 4/10\n",
            "176/176 [==============================] - 899s 5s/step - loss: 0.1735 - accuracy: 0.9380 - val_loss: 0.1737 - val_accuracy: 0.9350\n",
            "Epoch 5/10\n",
            "176/176 [==============================] - 895s 5s/step - loss: 0.1398 - accuracy: 0.9522 - val_loss: 0.1256 - val_accuracy: 0.9572\n",
            "Epoch 6/10\n",
            "176/176 [==============================] - 895s 5s/step - loss: 0.1362 - accuracy: 0.9481 - val_loss: 0.2882 - val_accuracy: 0.9509\n",
            "Epoch 7/10\n",
            "176/176 [==============================] - 897s 5s/step - loss: 0.1060 - accuracy: 0.9602 - val_loss: 0.2506 - val_accuracy: 0.9223\n",
            "Epoch 8/10\n",
            "176/176 [==============================] - 897s 5s/step - loss: 0.1045 - accuracy: 0.9634 - val_loss: 0.2394 - val_accuracy: 0.9303\n",
            "20/20 [==============================] - 22s 950ms/step\n",
            "Validation Masked Accuracy: 0.9572107765451664\n"
          ]
        },
        {
          "output_type": "display_data",
          "data": {
            "text/plain": [
              "<Figure size 800x600 with 2 Axes>"
            ],
            "image/png": "[encoded data removed]"
          },
          "metadata": {}
        }
      ]
    }
  ],
  "metadata": {
    "colab": {
      "provenance": [],
      "include_colab_link": true
    },
    "kernelspec": {
      "display_name": "Python 3",
      "name": "python3"
    },
    "language_info": {
      "name": "python"
    }
  },
  "nbformat": 4,
  "nbformat_minor": 0
}